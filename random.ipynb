{
 "cells": [
  {
   "attachments": {},
   "cell_type": "markdown",
   "metadata": {},
   "source": [
    "## Create Folder Structure"
   ]
  },
  {
   "cell_type": "code",
   "execution_count": 42,
   "metadata": {},
   "outputs": [],
   "source": [
    "from bs4 import BeautifulSoup\n",
    "from pathlib import Path\n",
    "import pandas as pd\n",
    "\n",
    "\n",
    "with open('questions.html', 'r') as f:\n",
    "    soup = BeautifulSoup(f.read(), 'html.parser')\n",
    "    rows = soup.find('tbody').find_all('tr')\n",
    "    data = [row.find_all('td') for row in rows] # [[td, td, td], [td, td, td], ...]\n",
    "\n",
    "questions = [{\n",
    "    'company': td[0].find('p').text.strip()\n",
    "    , 'title': td[1].find('p').text.strip()\n",
    "    , 'category': td[2].find('a').text.lower().strip()\n",
    "    , 'difficulty': td[3].find('a').text.lower().strip()\n",
    "    , 'url': 'https://datalemur.com/questions' + td[4].find('a')['href']\n",
    "    , 'file_name': td[4].find('a')['href'].split('/')[-1] + '.sql'\n",
    "    } for td in data]"
   ]
  },
  {
   "cell_type": "code",
   "execution_count": 43,
   "metadata": {},
   "outputs": [
    {
     "data": {
      "text/plain": [
       "'&-.01247abcdefghijklmnopqrstuvwxyz'"
      ]
     },
     "execution_count": 43,
     "metadata": {},
     "output_type": "execute_result"
    }
   ],
   "source": [
    "''.join(sorted(set(''.join([q['file_name'] for q in questions]))))"
   ]
  },
  {
   "cell_type": "code",
   "execution_count": 50,
   "metadata": {},
   "outputs": [],
   "source": [
    "for q in [q for q in questions if q['category'] == 'sql']:\n",
    "    file_path = Path(q['category'], q['difficulty'])\n",
    "    file_name = file_path.joinpath(q['file_name'])\n",
    "    \n",
    "    # create directory / file\n",
    "    file_path.mkdir(parents=True, exist_ok=True)\n",
    "    file_name.touch(exist_ok=True)\n",
    "    \n",
    "    comment = f\"-- {q['url']}\"\n",
    "    blank = '\\nSELECT NULL AS blank;\\n'\n",
    "    with open(file_name, 'r+') as f:\n",
    "        contents = f.readlines() # keep existing contents\n",
    "        f.seek(0) # go to beginning of file\n",
    "\n",
    "        if len(contents) == 0:\n",
    "            f.writelines([comment] + [blank])\n",
    "        # elif any(c.strip() == blank.strip() for c in contents):\n",
    "        #     f.truncate(0)\n",
    "        #     f.writelines([comment] + [blank])\n",
    "            \n",
    "        elif contents[0].strip() != comment.strip():\n",
    "            f.truncate(0)\n",
    "            f.writelines([comment] + contents)"
   ]
  },
  {
   "cell_type": "code",
   "execution_count": 5,
   "metadata": {},
   "outputs": [],
   "source": [
    "pd.DataFrame(questions).to_parquet('questions.parquet', index=False)"
   ]
  }
 ],
 "metadata": {
  "kernelspec": {
   "display_name": ".venv",
   "language": "python",
   "name": "python3"
  },
  "language_info": {
   "codemirror_mode": {
    "name": "ipython",
    "version": 3
   },
   "file_extension": ".py",
   "mimetype": "text/x-python",
   "name": "python",
   "nbconvert_exporter": "python",
   "pygments_lexer": "ipython3",
   "version": "3.11.2"
  },
  "orig_nbformat": 4
 },
 "nbformat": 4,
 "nbformat_minor": 2
}
